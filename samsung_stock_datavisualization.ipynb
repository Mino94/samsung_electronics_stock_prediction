{
  "nbformat": 4,
  "nbformat_minor": 0,
  "metadata": {
    "colab": {
      "name": "samsung_stock_datavisualization.ipynb",
      "provenance": [],
      "collapsed_sections": [],
      "authorship_tag": "ABX9TyPcz+eJqXL6f7JaPmcy26iF",
      "include_colab_link": true
    },
    "kernelspec": {
      "name": "python3",
      "display_name": "Python 3"
    }
  },
  "cells": [
    {
      "cell_type": "markdown",
      "metadata": {
        "id": "view-in-github",
        "colab_type": "text"
      },
      "source": [
        "<a href=\"https://colab.research.google.com/github/Mino94/samsung_electronics_stock_prediction/blob/main/samsung_stock_datavisualization.ipynb\" target=\"_parent\"><img src=\"https://colab.research.google.com/assets/colab-badge.svg\" alt=\"Open In Colab\"/></a>"
      ]
    },
    {
      "cell_type": "markdown",
      "metadata": {
        "id": "xab4Wsbosd4l"
      },
      "source": [
        "# 삼성전자 주식 예측 하기 (데이터 시각화)\r\n",
        "\r\n",
        ">> 출처 : https://sosoeasy.tistory.com/332 "
      ]
    },
    {
      "cell_type": "code",
      "metadata": {
        "id": "gFtot7AFdsGV"
      },
      "source": [
        "# # google colab 사용\r\n",
        "# from google.colab import files\r\n",
        "# uploaded = files.upload()"
      ],
      "execution_count": 1,
      "outputs": []
    },
    {
      "cell_type": "code",
      "metadata": {
        "id": "Pask3lpTkdIw"
      },
      "source": [
        "import pandas as pd\r\n",
        "import seaborn as sns\r\n",
        "import matplotlib.pyplot as plt\r\n",
        "import numpy as np\r\n",
        "from datetime import datetime "
      ],
      "execution_count": 2,
      "outputs": []
    },
    {
      "cell_type": "code",
      "metadata": {
        "colab": {
          "base_uri": "https://localhost:8080/",
          "height": 419
        },
        "id": "FNR8yutLd0DC",
        "outputId": "e8be6c92-cf36-4053-af76-cd1409d1f7fa"
      },
      "source": [
        "start = datetime(2009, 1, 2)\r\n",
        "end = datetime(2021, 1, 11)\r\n",
        "df  = pd.read_csv('./005930KS.csv')\r\n",
        "df"
      ],
      "execution_count": 3,
      "outputs": [
        {
          "output_type": "execute_result",
          "data": {
            "text/html": [
              "<div>\n",
              "<style scoped>\n",
              "    .dataframe tbody tr th:only-of-type {\n",
              "        vertical-align: middle;\n",
              "    }\n",
              "\n",
              "    .dataframe tbody tr th {\n",
              "        vertical-align: top;\n",
              "    }\n",
              "\n",
              "    .dataframe thead th {\n",
              "        text-align: right;\n",
              "    }\n",
              "</style>\n",
              "<table border=\"1\" class=\"dataframe\">\n",
              "  <thead>\n",
              "    <tr style=\"text-align: right;\">\n",
              "      <th></th>\n",
              "      <th>Date</th>\n",
              "      <th>Open</th>\n",
              "      <th>High</th>\n",
              "      <th>Low</th>\n",
              "      <th>Close</th>\n",
              "      <th>Adj Close</th>\n",
              "      <th>Volume</th>\n",
              "    </tr>\n",
              "  </thead>\n",
              "  <tbody>\n",
              "    <tr>\n",
              "      <th>0</th>\n",
              "      <td>2009-01-02</td>\n",
              "      <td>9070.0</td>\n",
              "      <td>9400.0</td>\n",
              "      <td>8850.0</td>\n",
              "      <td>9400.0</td>\n",
              "      <td>1.705819</td>\n",
              "      <td>22978400.0</td>\n",
              "    </tr>\n",
              "    <tr>\n",
              "      <th>1</th>\n",
              "      <td>2009-01-05</td>\n",
              "      <td>9600.0</td>\n",
              "      <td>9740.0</td>\n",
              "      <td>9470.0</td>\n",
              "      <td>9520.0</td>\n",
              "      <td>1.727595</td>\n",
              "      <td>30460450.0</td>\n",
              "    </tr>\n",
              "    <tr>\n",
              "      <th>2</th>\n",
              "      <td>2009-01-06</td>\n",
              "      <td>9640.0</td>\n",
              "      <td>10040.0</td>\n",
              "      <td>9590.0</td>\n",
              "      <td>9960.0</td>\n",
              "      <td>1.807442</td>\n",
              "      <td>45072450.0</td>\n",
              "    </tr>\n",
              "    <tr>\n",
              "      <th>3</th>\n",
              "      <td>2009-01-07</td>\n",
              "      <td>10100.0</td>\n",
              "      <td>10480.0</td>\n",
              "      <td>9980.0</td>\n",
              "      <td>10480.0</td>\n",
              "      <td>1.901807</td>\n",
              "      <td>41286200.0</td>\n",
              "    </tr>\n",
              "    <tr>\n",
              "      <th>4</th>\n",
              "      <td>2009-01-08</td>\n",
              "      <td>10360.0</td>\n",
              "      <td>10380.0</td>\n",
              "      <td>10060.0</td>\n",
              "      <td>10160.0</td>\n",
              "      <td>1.843736</td>\n",
              "      <td>30614600.0</td>\n",
              "    </tr>\n",
              "    <tr>\n",
              "      <th>...</th>\n",
              "      <td>...</td>\n",
              "      <td>...</td>\n",
              "      <td>...</td>\n",
              "      <td>...</td>\n",
              "      <td>...</td>\n",
              "      <td>...</td>\n",
              "      <td>...</td>\n",
              "    </tr>\n",
              "    <tr>\n",
              "      <th>2967</th>\n",
              "      <td>2021-01-05</td>\n",
              "      <td>81600.0</td>\n",
              "      <td>83900.0</td>\n",
              "      <td>81600.0</td>\n",
              "      <td>83900.0</td>\n",
              "      <td>83900.000000</td>\n",
              "      <td>35335669.0</td>\n",
              "    </tr>\n",
              "    <tr>\n",
              "      <th>2968</th>\n",
              "      <td>2021-01-06</td>\n",
              "      <td>83300.0</td>\n",
              "      <td>84500.0</td>\n",
              "      <td>82100.0</td>\n",
              "      <td>82200.0</td>\n",
              "      <td>82200.000000</td>\n",
              "      <td>42089013.0</td>\n",
              "    </tr>\n",
              "    <tr>\n",
              "      <th>2969</th>\n",
              "      <td>2021-01-07</td>\n",
              "      <td>82800.0</td>\n",
              "      <td>84200.0</td>\n",
              "      <td>82700.0</td>\n",
              "      <td>82900.0</td>\n",
              "      <td>82900.000000</td>\n",
              "      <td>32644642.0</td>\n",
              "    </tr>\n",
              "    <tr>\n",
              "      <th>2970</th>\n",
              "      <td>2021-01-08</td>\n",
              "      <td>83300.0</td>\n",
              "      <td>90000.0</td>\n",
              "      <td>83000.0</td>\n",
              "      <td>88800.0</td>\n",
              "      <td>88800.000000</td>\n",
              "      <td>59013307.0</td>\n",
              "    </tr>\n",
              "    <tr>\n",
              "      <th>2971</th>\n",
              "      <td>2021-01-11</td>\n",
              "      <td>90000.0</td>\n",
              "      <td>96800.0</td>\n",
              "      <td>89500.0</td>\n",
              "      <td>91000.0</td>\n",
              "      <td>91000.000000</td>\n",
              "      <td>89406371.0</td>\n",
              "    </tr>\n",
              "  </tbody>\n",
              "</table>\n",
              "<p>2972 rows × 7 columns</p>\n",
              "</div>"
            ],
            "text/plain": [
              "            Date     Open     High      Low    Close     Adj Close      Volume\n",
              "0     2009-01-02   9070.0   9400.0   8850.0   9400.0      1.705819  22978400.0\n",
              "1     2009-01-05   9600.0   9740.0   9470.0   9520.0      1.727595  30460450.0\n",
              "2     2009-01-06   9640.0  10040.0   9590.0   9960.0      1.807442  45072450.0\n",
              "3     2009-01-07  10100.0  10480.0   9980.0  10480.0      1.901807  41286200.0\n",
              "4     2009-01-08  10360.0  10380.0  10060.0  10160.0      1.843736  30614600.0\n",
              "...          ...      ...      ...      ...      ...           ...         ...\n",
              "2967  2021-01-05  81600.0  83900.0  81600.0  83900.0  83900.000000  35335669.0\n",
              "2968  2021-01-06  83300.0  84500.0  82100.0  82200.0  82200.000000  42089013.0\n",
              "2969  2021-01-07  82800.0  84200.0  82700.0  82900.0  82900.000000  32644642.0\n",
              "2970  2021-01-08  83300.0  90000.0  83000.0  88800.0  88800.000000  59013307.0\n",
              "2971  2021-01-11  90000.0  96800.0  89500.0  91000.0  91000.000000  89406371.0\n",
              "\n",
              "[2972 rows x 7 columns]"
            ]
          },
          "metadata": {
            "tags": []
          },
          "execution_count": 3
        }
      ]
    },
    {
      "cell_type": "code",
      "metadata": {
        "colab": {
          "base_uri": "https://localhost:8080/"
        },
        "id": "cYHz8HG8exZK",
        "outputId": "5fc692ac-3318-4778-d8af-a5cbd84a5bca"
      },
      "source": [
        "df.columns"
      ],
      "execution_count": 4,
      "outputs": [
        {
          "output_type": "execute_result",
          "data": {
            "text/plain": [
              "Index(['Date', 'Open', 'High', 'Low', 'Close', 'Adj Close', 'Volume'], dtype='object')"
            ]
          },
          "metadata": {
            "tags": []
          },
          "execution_count": 4
        }
      ]
    },
    {
      "cell_type": "code",
      "metadata": {
        "colab": {
          "base_uri": "https://localhost:8080/"
        },
        "id": "CqM1bByeiNmv",
        "outputId": "0dc51ffb-4bc3-41e9-bdb5-3144033a6901"
      },
      "source": [
        "df.dtypes"
      ],
      "execution_count": 5,
      "outputs": [
        {
          "output_type": "execute_result",
          "data": {
            "text/plain": [
              "Date          object\n",
              "Open         float64\n",
              "High         float64\n",
              "Low          float64\n",
              "Close        float64\n",
              "Adj Close    float64\n",
              "Volume       float64\n",
              "dtype: object"
            ]
          },
          "metadata": {
            "tags": []
          },
          "execution_count": 5
        }
      ]
    },
    {
      "cell_type": "code",
      "metadata": {
        "colab": {
          "base_uri": "https://localhost:8080/"
        },
        "id": "j_8uBQRQ4-cn",
        "outputId": "d72161b2-b088-4aa4-e694-fd03b5c60f1e"
      },
      "source": [
        "df.describe"
      ],
      "execution_count": 6,
      "outputs": [
        {
          "output_type": "execute_result",
          "data": {
            "text/plain": [
              "<bound method NDFrame.describe of             Date     Open     High      Low    Close     Adj Close      Volume\n",
              "0     2009-01-02   9070.0   9400.0   8850.0   9400.0      1.705819  22978400.0\n",
              "1     2009-01-05   9600.0   9740.0   9470.0   9520.0      1.727595  30460450.0\n",
              "2     2009-01-06   9640.0  10040.0   9590.0   9960.0      1.807442  45072450.0\n",
              "3     2009-01-07  10100.0  10480.0   9980.0  10480.0      1.901807  41286200.0\n",
              "4     2009-01-08  10360.0  10380.0  10060.0  10160.0      1.843736  30614600.0\n",
              "...          ...      ...      ...      ...      ...           ...         ...\n",
              "2967  2021-01-05  81600.0  83900.0  81600.0  83900.0  83900.000000  35335669.0\n",
              "2968  2021-01-06  83300.0  84500.0  82100.0  82200.0  82200.000000  42089013.0\n",
              "2969  2021-01-07  82800.0  84200.0  82700.0  82900.0  82900.000000  32644642.0\n",
              "2970  2021-01-08  83300.0  90000.0  83000.0  88800.0  88800.000000  59013307.0\n",
              "2971  2021-01-11  90000.0  96800.0  89500.0  91000.0  91000.000000  89406371.0\n",
              "\n",
              "[2972 rows x 7 columns]>"
            ]
          },
          "metadata": {
            "tags": []
          },
          "execution_count": 6
        }
      ]
    },
    {
      "cell_type": "markdown",
      "metadata": {
        "id": "tunH2JyLrAZh"
      },
      "source": [
        "#### x-N일 부터 x일 까지의 평균을 \"x일의 N일 이동평균선이라고 한다.\" 주식값 예측에 중요한 역할을 한다.\r\n",
        "\r\n",
        "**단기이동평균선**이 **장기이동평균선**을 넘으면 \"골든크로스: 라고 한다.\r\n",
        "\r\n",
        "**장기이동평균선**이 **단기이동평균선**을 넘으면 \"데드크로스\"라고 한다"
      ]
    },
    {
      "cell_type": "markdown",
      "metadata": {
        "id": "rAN7a_UCr-aR"
      },
      "source": [
        "- 이동평균선을 구하기위해서 pandas.Series.rolling을 알아야 한다. 일정 범위에서 규칙적으로 연산을 해야할 경우 사용"
      ]
    },
    {
      "cell_type": "code",
      "metadata": {
        "id": "HtWdaLkK5nIK"
      },
      "source": [
        "ma5 = df['Adj Close'].rolling(window=5).mean()\r\n",
        "ma20 = df['Adj Close'].rolling(window=20).mean()\r\n",
        "ma60 = df['Adj Close'].rolling(window=60).mean()\r\n",
        "ma120 = df['Adj Close'].rolling(window=120).mean()\r\n",
        "\r\n",
        "df.insert(len(df.columns), \"MA5\", ma5)\r\n",
        "df.insert(len(df.columns), \"MA20\", ma20)\r\n",
        "df.insert(len(df.columns), \"MA60\", ma60)\r\n",
        "df.insert(len(df.columns), \"MA120\", ma120)\r\n"
      ],
      "execution_count": 7,
      "outputs": []
    },
    {
      "cell_type": "code",
      "metadata": {
        "colab": {
          "base_uri": "https://localhost:8080/",
          "height": 419
        },
        "id": "qaNO0jEAt5WM",
        "outputId": "a7fb4ef0-165d-4ee4-c1f5-926e617a7463"
      },
      "source": [
        "df"
      ],
      "execution_count": 8,
      "outputs": [
        {
          "output_type": "execute_result",
          "data": {
            "text/html": [
              "<div>\n",
              "<style scoped>\n",
              "    .dataframe tbody tr th:only-of-type {\n",
              "        vertical-align: middle;\n",
              "    }\n",
              "\n",
              "    .dataframe tbody tr th {\n",
              "        vertical-align: top;\n",
              "    }\n",
              "\n",
              "    .dataframe thead th {\n",
              "        text-align: right;\n",
              "    }\n",
              "</style>\n",
              "<table border=\"1\" class=\"dataframe\">\n",
              "  <thead>\n",
              "    <tr style=\"text-align: right;\">\n",
              "      <th></th>\n",
              "      <th>Date</th>\n",
              "      <th>Open</th>\n",
              "      <th>High</th>\n",
              "      <th>Low</th>\n",
              "      <th>Close</th>\n",
              "      <th>Adj Close</th>\n",
              "      <th>Volume</th>\n",
              "      <th>MA5</th>\n",
              "      <th>MA20</th>\n",
              "      <th>MA60</th>\n",
              "      <th>MA120</th>\n",
              "    </tr>\n",
              "  </thead>\n",
              "  <tbody>\n",
              "    <tr>\n",
              "      <th>0</th>\n",
              "      <td>2009-01-02</td>\n",
              "      <td>9070.0</td>\n",
              "      <td>9400.0</td>\n",
              "      <td>8850.0</td>\n",
              "      <td>9400.0</td>\n",
              "      <td>1.705819</td>\n",
              "      <td>22978400.0</td>\n",
              "      <td>NaN</td>\n",
              "      <td>NaN</td>\n",
              "      <td>NaN</td>\n",
              "      <td>NaN</td>\n",
              "    </tr>\n",
              "    <tr>\n",
              "      <th>1</th>\n",
              "      <td>2009-01-05</td>\n",
              "      <td>9600.0</td>\n",
              "      <td>9740.0</td>\n",
              "      <td>9470.0</td>\n",
              "      <td>9520.0</td>\n",
              "      <td>1.727595</td>\n",
              "      <td>30460450.0</td>\n",
              "      <td>NaN</td>\n",
              "      <td>NaN</td>\n",
              "      <td>NaN</td>\n",
              "      <td>NaN</td>\n",
              "    </tr>\n",
              "    <tr>\n",
              "      <th>2</th>\n",
              "      <td>2009-01-06</td>\n",
              "      <td>9640.0</td>\n",
              "      <td>10040.0</td>\n",
              "      <td>9590.0</td>\n",
              "      <td>9960.0</td>\n",
              "      <td>1.807442</td>\n",
              "      <td>45072450.0</td>\n",
              "      <td>NaN</td>\n",
              "      <td>NaN</td>\n",
              "      <td>NaN</td>\n",
              "      <td>NaN</td>\n",
              "    </tr>\n",
              "    <tr>\n",
              "      <th>3</th>\n",
              "      <td>2009-01-07</td>\n",
              "      <td>10100.0</td>\n",
              "      <td>10480.0</td>\n",
              "      <td>9980.0</td>\n",
              "      <td>10480.0</td>\n",
              "      <td>1.901807</td>\n",
              "      <td>41286200.0</td>\n",
              "      <td>NaN</td>\n",
              "      <td>NaN</td>\n",
              "      <td>NaN</td>\n",
              "      <td>NaN</td>\n",
              "    </tr>\n",
              "    <tr>\n",
              "      <th>4</th>\n",
              "      <td>2009-01-08</td>\n",
              "      <td>10360.0</td>\n",
              "      <td>10380.0</td>\n",
              "      <td>10060.0</td>\n",
              "      <td>10160.0</td>\n",
              "      <td>1.843736</td>\n",
              "      <td>30614600.0</td>\n",
              "      <td>1.79728</td>\n",
              "      <td>NaN</td>\n",
              "      <td>NaN</td>\n",
              "      <td>NaN</td>\n",
              "    </tr>\n",
              "    <tr>\n",
              "      <th>...</th>\n",
              "      <td>...</td>\n",
              "      <td>...</td>\n",
              "      <td>...</td>\n",
              "      <td>...</td>\n",
              "      <td>...</td>\n",
              "      <td>...</td>\n",
              "      <td>...</td>\n",
              "      <td>...</td>\n",
              "      <td>...</td>\n",
              "      <td>...</td>\n",
              "      <td>...</td>\n",
              "    </tr>\n",
              "    <tr>\n",
              "      <th>2967</th>\n",
              "      <td>2021-01-05</td>\n",
              "      <td>81600.0</td>\n",
              "      <td>83900.0</td>\n",
              "      <td>81600.0</td>\n",
              "      <td>83900.0</td>\n",
              "      <td>83900.000000</td>\n",
              "      <td>35335669.0</td>\n",
              "      <td>80980.00000</td>\n",
              "      <td>75295.0</td>\n",
              "      <td>66701.666667</td>\n",
              "      <td>61886.666667</td>\n",
              "    </tr>\n",
              "    <tr>\n",
              "      <th>2968</th>\n",
              "      <td>2021-01-06</td>\n",
              "      <td>83300.0</td>\n",
              "      <td>84500.0</td>\n",
              "      <td>82100.0</td>\n",
              "      <td>82200.0</td>\n",
              "      <td>82200.000000</td>\n",
              "      <td>42089013.0</td>\n",
              "      <td>81680.00000</td>\n",
              "      <td>75830.0</td>\n",
              "      <td>67076.666667</td>\n",
              "      <td>62132.500000</td>\n",
              "    </tr>\n",
              "    <tr>\n",
              "      <th>2969</th>\n",
              "      <td>2021-01-07</td>\n",
              "      <td>82800.0</td>\n",
              "      <td>84200.0</td>\n",
              "      <td>82700.0</td>\n",
              "      <td>82900.0</td>\n",
              "      <td>82900.000000</td>\n",
              "      <td>32644642.0</td>\n",
              "      <td>82600.00000</td>\n",
              "      <td>76330.0</td>\n",
              "      <td>67451.666667</td>\n",
              "      <td>62378.333333</td>\n",
              "    </tr>\n",
              "    <tr>\n",
              "      <th>2970</th>\n",
              "      <td>2021-01-08</td>\n",
              "      <td>83300.0</td>\n",
              "      <td>90000.0</td>\n",
              "      <td>83000.0</td>\n",
              "      <td>88800.0</td>\n",
              "      <td>88800.000000</td>\n",
              "      <td>59013307.0</td>\n",
              "      <td>84160.00000</td>\n",
              "      <td>77185.0</td>\n",
              "      <td>67916.666667</td>\n",
              "      <td>62670.000000</td>\n",
              "    </tr>\n",
              "    <tr>\n",
              "      <th>2971</th>\n",
              "      <td>2021-01-11</td>\n",
              "      <td>90000.0</td>\n",
              "      <td>96800.0</td>\n",
              "      <td>89500.0</td>\n",
              "      <td>91000.0</td>\n",
              "      <td>91000.000000</td>\n",
              "      <td>89406371.0</td>\n",
              "      <td>85760.00000</td>\n",
              "      <td>78040.0</td>\n",
              "      <td>68418.333333</td>\n",
              "      <td>62972.500000</td>\n",
              "    </tr>\n",
              "  </tbody>\n",
              "</table>\n",
              "<p>2972 rows × 11 columns</p>\n",
              "</div>"
            ],
            "text/plain": [
              "            Date     Open     High  ...     MA20          MA60         MA120\n",
              "0     2009-01-02   9070.0   9400.0  ...      NaN           NaN           NaN\n",
              "1     2009-01-05   9600.0   9740.0  ...      NaN           NaN           NaN\n",
              "2     2009-01-06   9640.0  10040.0  ...      NaN           NaN           NaN\n",
              "3     2009-01-07  10100.0  10480.0  ...      NaN           NaN           NaN\n",
              "4     2009-01-08  10360.0  10380.0  ...      NaN           NaN           NaN\n",
              "...          ...      ...      ...  ...      ...           ...           ...\n",
              "2967  2021-01-05  81600.0  83900.0  ...  75295.0  66701.666667  61886.666667\n",
              "2968  2021-01-06  83300.0  84500.0  ...  75830.0  67076.666667  62132.500000\n",
              "2969  2021-01-07  82800.0  84200.0  ...  76330.0  67451.666667  62378.333333\n",
              "2970  2021-01-08  83300.0  90000.0  ...  77185.0  67916.666667  62670.000000\n",
              "2971  2021-01-11  90000.0  96800.0  ...  78040.0  68418.333333  62972.500000\n",
              "\n",
              "[2972 rows x 11 columns]"
            ]
          },
          "metadata": {
            "tags": []
          },
          "execution_count": 8
        }
      ]
    },
    {
      "cell_type": "code",
      "metadata": {
        "id": "sz1FkRPMuHpD"
      },
      "source": [
        "# 거래량을 이용한 이동평균선 계산, 추가\r\n",
        "vma5 = df['Volume'].rolling(window=5).mean()\r\n",
        "df.insert(len(df.columns), \"VMA5\", vma5)"
      ],
      "execution_count": 9,
      "outputs": []
    },
    {
      "cell_type": "code",
      "metadata": {
        "colab": {
          "base_uri": "https://localhost:8080/",
          "height": 609
        },
        "id": "obZGeeXcwURI",
        "outputId": "be1de561-4884-440c-b1a6-a4cea0d77e06"
      },
      "source": [
        "df"
      ],
      "execution_count": 10,
      "outputs": [
        {
          "output_type": "execute_result",
          "data": {
            "text/html": [
              "<div>\n",
              "<style scoped>\n",
              "    .dataframe tbody tr th:only-of-type {\n",
              "        vertical-align: middle;\n",
              "    }\n",
              "\n",
              "    .dataframe tbody tr th {\n",
              "        vertical-align: top;\n",
              "    }\n",
              "\n",
              "    .dataframe thead th {\n",
              "        text-align: right;\n",
              "    }\n",
              "</style>\n",
              "<table border=\"1\" class=\"dataframe\">\n",
              "  <thead>\n",
              "    <tr style=\"text-align: right;\">\n",
              "      <th></th>\n",
              "      <th>Date</th>\n",
              "      <th>Open</th>\n",
              "      <th>High</th>\n",
              "      <th>Low</th>\n",
              "      <th>Close</th>\n",
              "      <th>Adj Close</th>\n",
              "      <th>Volume</th>\n",
              "      <th>MA5</th>\n",
              "      <th>MA20</th>\n",
              "      <th>MA60</th>\n",
              "      <th>MA120</th>\n",
              "      <th>VMA5</th>\n",
              "    </tr>\n",
              "  </thead>\n",
              "  <tbody>\n",
              "    <tr>\n",
              "      <th>0</th>\n",
              "      <td>2009-01-02</td>\n",
              "      <td>9070.0</td>\n",
              "      <td>9400.0</td>\n",
              "      <td>8850.0</td>\n",
              "      <td>9400.0</td>\n",
              "      <td>1.705819</td>\n",
              "      <td>22978400.0</td>\n",
              "      <td>NaN</td>\n",
              "      <td>NaN</td>\n",
              "      <td>NaN</td>\n",
              "      <td>NaN</td>\n",
              "      <td>NaN</td>\n",
              "    </tr>\n",
              "    <tr>\n",
              "      <th>1</th>\n",
              "      <td>2009-01-05</td>\n",
              "      <td>9600.0</td>\n",
              "      <td>9740.0</td>\n",
              "      <td>9470.0</td>\n",
              "      <td>9520.0</td>\n",
              "      <td>1.727595</td>\n",
              "      <td>30460450.0</td>\n",
              "      <td>NaN</td>\n",
              "      <td>NaN</td>\n",
              "      <td>NaN</td>\n",
              "      <td>NaN</td>\n",
              "      <td>NaN</td>\n",
              "    </tr>\n",
              "    <tr>\n",
              "      <th>2</th>\n",
              "      <td>2009-01-06</td>\n",
              "      <td>9640.0</td>\n",
              "      <td>10040.0</td>\n",
              "      <td>9590.0</td>\n",
              "      <td>9960.0</td>\n",
              "      <td>1.807442</td>\n",
              "      <td>45072450.0</td>\n",
              "      <td>NaN</td>\n",
              "      <td>NaN</td>\n",
              "      <td>NaN</td>\n",
              "      <td>NaN</td>\n",
              "      <td>NaN</td>\n",
              "    </tr>\n",
              "    <tr>\n",
              "      <th>3</th>\n",
              "      <td>2009-01-07</td>\n",
              "      <td>10100.0</td>\n",
              "      <td>10480.0</td>\n",
              "      <td>9980.0</td>\n",
              "      <td>10480.0</td>\n",
              "      <td>1.901807</td>\n",
              "      <td>41286200.0</td>\n",
              "      <td>NaN</td>\n",
              "      <td>NaN</td>\n",
              "      <td>NaN</td>\n",
              "      <td>NaN</td>\n",
              "      <td>NaN</td>\n",
              "    </tr>\n",
              "    <tr>\n",
              "      <th>4</th>\n",
              "      <td>2009-01-08</td>\n",
              "      <td>10360.0</td>\n",
              "      <td>10380.0</td>\n",
              "      <td>10060.0</td>\n",
              "      <td>10160.0</td>\n",
              "      <td>1.843736</td>\n",
              "      <td>30614600.0</td>\n",
              "      <td>1.79728</td>\n",
              "      <td>NaN</td>\n",
              "      <td>NaN</td>\n",
              "      <td>NaN</td>\n",
              "      <td>34082420.0</td>\n",
              "    </tr>\n",
              "    <tr>\n",
              "      <th>...</th>\n",
              "      <td>...</td>\n",
              "      <td>...</td>\n",
              "      <td>...</td>\n",
              "      <td>...</td>\n",
              "      <td>...</td>\n",
              "      <td>...</td>\n",
              "      <td>...</td>\n",
              "      <td>...</td>\n",
              "      <td>...</td>\n",
              "      <td>...</td>\n",
              "      <td>...</td>\n",
              "      <td>...</td>\n",
              "    </tr>\n",
              "    <tr>\n",
              "      <th>2967</th>\n",
              "      <td>2021-01-05</td>\n",
              "      <td>81600.0</td>\n",
              "      <td>83900.0</td>\n",
              "      <td>81600.0</td>\n",
              "      <td>83900.0</td>\n",
              "      <td>83900.000000</td>\n",
              "      <td>35335669.0</td>\n",
              "      <td>80980.00000</td>\n",
              "      <td>75295.0</td>\n",
              "      <td>66701.666667</td>\n",
              "      <td>61886.666667</td>\n",
              "      <td>34766571.8</td>\n",
              "    </tr>\n",
              "    <tr>\n",
              "      <th>2968</th>\n",
              "      <td>2021-01-06</td>\n",
              "      <td>83300.0</td>\n",
              "      <td>84500.0</td>\n",
              "      <td>82100.0</td>\n",
              "      <td>82200.0</td>\n",
              "      <td>82200.000000</td>\n",
              "      <td>42089013.0</td>\n",
              "      <td>81680.00000</td>\n",
              "      <td>75830.0</td>\n",
              "      <td>67076.666667</td>\n",
              "      <td>62132.500000</td>\n",
              "      <td>35167365.6</td>\n",
              "    </tr>\n",
              "    <tr>\n",
              "      <th>2969</th>\n",
              "      <td>2021-01-07</td>\n",
              "      <td>82800.0</td>\n",
              "      <td>84200.0</td>\n",
              "      <td>82700.0</td>\n",
              "      <td>82900.0</td>\n",
              "      <td>82900.000000</td>\n",
              "      <td>32644642.0</td>\n",
              "      <td>82600.00000</td>\n",
              "      <td>76330.0</td>\n",
              "      <td>67451.666667</td>\n",
              "      <td>62378.333333</td>\n",
              "      <td>35628404.2</td>\n",
              "    </tr>\n",
              "    <tr>\n",
              "      <th>2970</th>\n",
              "      <td>2021-01-08</td>\n",
              "      <td>83300.0</td>\n",
              "      <td>90000.0</td>\n",
              "      <td>83000.0</td>\n",
              "      <td>88800.0</td>\n",
              "      <td>88800.000000</td>\n",
              "      <td>59013307.0</td>\n",
              "      <td>84160.00000</td>\n",
              "      <td>77185.0</td>\n",
              "      <td>67916.666667</td>\n",
              "      <td>62670.000000</td>\n",
              "      <td>41547581.4</td>\n",
              "    </tr>\n",
              "    <tr>\n",
              "      <th>2971</th>\n",
              "      <td>2021-01-11</td>\n",
              "      <td>90000.0</td>\n",
              "      <td>96800.0</td>\n",
              "      <td>89500.0</td>\n",
              "      <td>91000.0</td>\n",
              "      <td>91000.000000</td>\n",
              "      <td>89406371.0</td>\n",
              "      <td>85760.00000</td>\n",
              "      <td>78040.0</td>\n",
              "      <td>68418.333333</td>\n",
              "      <td>62972.500000</td>\n",
              "      <td>51697800.4</td>\n",
              "    </tr>\n",
              "  </tbody>\n",
              "</table>\n",
              "<p>2972 rows × 12 columns</p>\n",
              "</div>"
            ],
            "text/plain": [
              "            Date     Open     High  ...          MA60         MA120        VMA5\n",
              "0     2009-01-02   9070.0   9400.0  ...           NaN           NaN         NaN\n",
              "1     2009-01-05   9600.0   9740.0  ...           NaN           NaN         NaN\n",
              "2     2009-01-06   9640.0  10040.0  ...           NaN           NaN         NaN\n",
              "3     2009-01-07  10100.0  10480.0  ...           NaN           NaN         NaN\n",
              "4     2009-01-08  10360.0  10380.0  ...           NaN           NaN  34082420.0\n",
              "...          ...      ...      ...  ...           ...           ...         ...\n",
              "2967  2021-01-05  81600.0  83900.0  ...  66701.666667  61886.666667  34766571.8\n",
              "2968  2021-01-06  83300.0  84500.0  ...  67076.666667  62132.500000  35167365.6\n",
              "2969  2021-01-07  82800.0  84200.0  ...  67451.666667  62378.333333  35628404.2\n",
              "2970  2021-01-08  83300.0  90000.0  ...  67916.666667  62670.000000  41547581.4\n",
              "2971  2021-01-11  90000.0  96800.0  ...  68418.333333  62972.500000  51697800.4\n",
              "\n",
              "[2972 rows x 12 columns]"
            ]
          },
          "metadata": {
            "tags": []
          },
          "execution_count": 10
        }
      ]
    },
    {
      "cell_type": "code",
      "metadata": {
        "id": "XAW9exeh0WT0"
      },
      "source": [
        ""
      ],
      "execution_count": 10,
      "outputs": []
    },
    {
      "cell_type": "code",
      "metadata": {
        "id": "QMcomVATxD2U"
      },
      "source": [
        "pd.to_datetime(df['Date'], format='%Y-%m-%d')\r\n",
        "# 0      2020-01-07\r\n",
        "# 1      2020-01-06\r\n",
        "# 2      2020-01-03\r\n",
        "# 3      2020-01-02\r\n",
        "# 4      2019-12-30\r\n",
        "\r\n",
        "df['Date'] = pd.to_datetime(df['Date'], format='%Y-%m-%d')\r\n",
        "df['Year'] =df['Date'].dt.year\r\n",
        "df['Month'] =df['Date'].dt.month\r\n",
        "df['Day'] =df['Date'].dt.day"
      ],
      "execution_count": 11,
      "outputs": []
    },
    {
      "cell_type": "code",
      "metadata": {
        "colab": {
          "base_uri": "https://localhost:8080/",
          "height": 483
        },
        "id": "Tm8JN5X_uztu",
        "outputId": "ba29b0e2-38a7-4160-a0ce-00532a4f0810"
      },
      "source": [
        "df = df.loc[df['Year']>=1990]\r\n",
        "\r\n",
        "plt.figure(figsize=(16, 9))\r\n",
        "sns.lineplot(x=df['Date'], y=df['MA5'], label=\"MA5\")\r\n",
        "sns.lineplot(x=df['Date'], y=df['MA20'], label=\"MA20\")\r\n",
        "sns.lineplot(x=df['Date'], y=df['MA60'], label=\"MA60\")\r\n",
        "sns.lineplot(x=df['Date'], y=df['MA120'], label=\"MA120\")\r\n",
        "\r\n",
        "sns.lineplot(y=df['Adj Close'], x=df['Date'], label='Adj Close')\r\n",
        "plt.legend(loc='best')\r\n",
        "plt.xlabel('time')\r\n",
        "plt.ylabel('price')\r\n",
        "plt.show();"
      ],
      "execution_count": 12,
      "outputs": [
        {
          "output_type": "display_data",
          "data": {
            "image/png": "[encoded data removed]",
            "text/plain": [
              "<Figure size 1152x648 with 1 Axes>"
            ]
          },
          "metadata": {
            "tags": [],
            "needs_background": "light"
          }
        }
      ]
    },
    {
      "cell_type": "markdown",
      "metadata": {
        "id": "xo26OXTg12EM"
      },
      "source": [
        "**주가 변동율 추가 및 시각화**"
      ]
    },
    {
      "cell_type": "code",
      "metadata": {
        "colab": {
          "base_uri": "https://localhost:8080/",
          "height": 626
        },
        "id": "avTrD-Y710u2",
        "outputId": "5de80f8e-8bbf-4d14-d89a-52053c97a736"
      },
      "source": [
        "# x일 행에 x+1일의 종가를 추가\r\n",
        "df['tomorrow Adj Close']= df['Adj Close'].shift(-1)\r\n",
        "\r\n",
        "# 변동율 측정 => ((다음날종가)-(오늘종가))/오늘종가 \r\n",
        "df['Fluctuation']= df['tomorrow Adj Close']-df['Adj Close']\r\n",
        "df['Fluctuation Rate']= df['Fluctuation']/df['Adj Close']\r\n",
        "df"
      ],
      "execution_count": 13,
      "outputs": [
        {
          "output_type": "execute_result",
          "data": {
            "text/html": [
              "<div>\n",
              "<style scoped>\n",
              "    .dataframe tbody tr th:only-of-type {\n",
              "        vertical-align: middle;\n",
              "    }\n",
              "\n",
              "    .dataframe tbody tr th {\n",
              "        vertical-align: top;\n",
              "    }\n",
              "\n",
              "    .dataframe thead th {\n",
              "        text-align: right;\n",
              "    }\n",
              "</style>\n",
              "<table border=\"1\" class=\"dataframe\">\n",
              "  <thead>\n",
              "    <tr style=\"text-align: right;\">\n",
              "      <th></th>\n",
              "      <th>Date</th>\n",
              "      <th>Open</th>\n",
              "      <th>High</th>\n",
              "      <th>Low</th>\n",
              "      <th>Close</th>\n",
              "      <th>Adj Close</th>\n",
              "      <th>Volume</th>\n",
              "      <th>MA5</th>\n",
              "      <th>MA20</th>\n",
              "      <th>MA60</th>\n",
              "      <th>MA120</th>\n",
              "      <th>VMA5</th>\n",
              "      <th>Year</th>\n",
              "      <th>Month</th>\n",
              "      <th>Day</th>\n",
              "      <th>tomorrow Adj Close</th>\n",
              "      <th>Fluctuation</th>\n",
              "      <th>Fluctuation Rate</th>\n",
              "    </tr>\n",
              "  </thead>\n",
              "  <tbody>\n",
              "    <tr>\n",
              "      <th>0</th>\n",
              "      <td>2009-01-02</td>\n",
              "      <td>9070.0</td>\n",
              "      <td>9400.0</td>\n",
              "      <td>8850.0</td>\n",
              "      <td>9400.0</td>\n",
              "      <td>1.705819</td>\n",
              "      <td>22978400.0</td>\n",
              "      <td>NaN</td>\n",
              "      <td>NaN</td>\n",
              "      <td>NaN</td>\n",
              "      <td>NaN</td>\n",
              "      <td>NaN</td>\n",
              "      <td>2009</td>\n",
              "      <td>1</td>\n",
              "      <td>2</td>\n",
              "      <td>1.727595</td>\n",
              "      <td>0.021776</td>\n",
              "      <td>0.012766</td>\n",
              "    </tr>\n",
              "    <tr>\n",
              "      <th>1</th>\n",
              "      <td>2009-01-05</td>\n",
              "      <td>9600.0</td>\n",
              "      <td>9740.0</td>\n",
              "      <td>9470.0</td>\n",
              "      <td>9520.0</td>\n",
              "      <td>1.727595</td>\n",
              "      <td>30460450.0</td>\n",
              "      <td>NaN</td>\n",
              "      <td>NaN</td>\n",
              "      <td>NaN</td>\n",
              "      <td>NaN</td>\n",
              "      <td>NaN</td>\n",
              "      <td>2009</td>\n",
              "      <td>1</td>\n",
              "      <td>5</td>\n",
              "      <td>1.807442</td>\n",
              "      <td>0.079847</td>\n",
              "      <td>0.046219</td>\n",
              "    </tr>\n",
              "    <tr>\n",
              "      <th>2</th>\n",
              "      <td>2009-01-06</td>\n",
              "      <td>9640.0</td>\n",
              "      <td>10040.0</td>\n",
              "      <td>9590.0</td>\n",
              "      <td>9960.0</td>\n",
              "      <td>1.807442</td>\n",
              "      <td>45072450.0</td>\n",
              "      <td>NaN</td>\n",
              "      <td>NaN</td>\n",
              "      <td>NaN</td>\n",
              "      <td>NaN</td>\n",
              "      <td>NaN</td>\n",
              "      <td>2009</td>\n",
              "      <td>1</td>\n",
              "      <td>6</td>\n",
              "      <td>1.901807</td>\n",
              "      <td>0.094365</td>\n",
              "      <td>0.052209</td>\n",
              "    </tr>\n",
              "    <tr>\n",
              "      <th>3</th>\n",
              "      <td>2009-01-07</td>\n",
              "      <td>10100.0</td>\n",
              "      <td>10480.0</td>\n",
              "      <td>9980.0</td>\n",
              "      <td>10480.0</td>\n",
              "      <td>1.901807</td>\n",
              "      <td>41286200.0</td>\n",
              "      <td>NaN</td>\n",
              "      <td>NaN</td>\n",
              "      <td>NaN</td>\n",
              "      <td>NaN</td>\n",
              "      <td>NaN</td>\n",
              "      <td>2009</td>\n",
              "      <td>1</td>\n",
              "      <td>7</td>\n",
              "      <td>1.843736</td>\n",
              "      <td>-0.058071</td>\n",
              "      <td>-0.030535</td>\n",
              "    </tr>\n",
              "    <tr>\n",
              "      <th>4</th>\n",
              "      <td>2009-01-08</td>\n",
              "      <td>10360.0</td>\n",
              "      <td>10380.0</td>\n",
              "      <td>10060.0</td>\n",
              "      <td>10160.0</td>\n",
              "      <td>1.843736</td>\n",
              "      <td>30614600.0</td>\n",
              "      <td>1.79728</td>\n",
              "      <td>NaN</td>\n",
              "      <td>NaN</td>\n",
              "      <td>NaN</td>\n",
              "      <td>34082420.0</td>\n",
              "      <td>2009</td>\n",
              "      <td>1</td>\n",
              "      <td>8</td>\n",
              "      <td>1.789295</td>\n",
              "      <td>-0.054441</td>\n",
              "      <td>-0.029528</td>\n",
              "    </tr>\n",
              "    <tr>\n",
              "      <th>...</th>\n",
              "      <td>...</td>\n",
              "      <td>...</td>\n",
              "      <td>...</td>\n",
              "      <td>...</td>\n",
              "      <td>...</td>\n",
              "      <td>...</td>\n",
              "      <td>...</td>\n",
              "      <td>...</td>\n",
              "      <td>...</td>\n",
              "      <td>...</td>\n",
              "      <td>...</td>\n",
              "      <td>...</td>\n",
              "      <td>...</td>\n",
              "      <td>...</td>\n",
              "      <td>...</td>\n",
              "      <td>...</td>\n",
              "      <td>...</td>\n",
              "      <td>...</td>\n",
              "    </tr>\n",
              "    <tr>\n",
              "      <th>2967</th>\n",
              "      <td>2021-01-05</td>\n",
              "      <td>81600.0</td>\n",
              "      <td>83900.0</td>\n",
              "      <td>81600.0</td>\n",
              "      <td>83900.0</td>\n",
              "      <td>83900.000000</td>\n",
              "      <td>35335669.0</td>\n",
              "      <td>80980.00000</td>\n",
              "      <td>75295.0</td>\n",
              "      <td>66701.666667</td>\n",
              "      <td>61886.666667</td>\n",
              "      <td>34766571.8</td>\n",
              "      <td>2021</td>\n",
              "      <td>1</td>\n",
              "      <td>5</td>\n",
              "      <td>82200.000000</td>\n",
              "      <td>-1700.000000</td>\n",
              "      <td>-0.020262</td>\n",
              "    </tr>\n",
              "    <tr>\n",
              "      <th>2968</th>\n",
              "      <td>2021-01-06</td>\n",
              "      <td>83300.0</td>\n",
              "      <td>84500.0</td>\n",
              "      <td>82100.0</td>\n",
              "      <td>82200.0</td>\n",
              "      <td>82200.000000</td>\n",
              "      <td>42089013.0</td>\n",
              "      <td>81680.00000</td>\n",
              "      <td>75830.0</td>\n",
              "      <td>67076.666667</td>\n",
              "      <td>62132.500000</td>\n",
              "      <td>35167365.6</td>\n",
              "      <td>2021</td>\n",
              "      <td>1</td>\n",
              "      <td>6</td>\n",
              "      <td>82900.000000</td>\n",
              "      <td>700.000000</td>\n",
              "      <td>0.008516</td>\n",
              "    </tr>\n",
              "    <tr>\n",
              "      <th>2969</th>\n",
              "      <td>2021-01-07</td>\n",
              "      <td>82800.0</td>\n",
              "      <td>84200.0</td>\n",
              "      <td>82700.0</td>\n",
              "      <td>82900.0</td>\n",
              "      <td>82900.000000</td>\n",
              "      <td>32644642.0</td>\n",
              "      <td>82600.00000</td>\n",
              "      <td>76330.0</td>\n",
              "      <td>67451.666667</td>\n",
              "      <td>62378.333333</td>\n",
              "      <td>35628404.2</td>\n",
              "      <td>2021</td>\n",
              "      <td>1</td>\n",
              "      <td>7</td>\n",
              "      <td>88800.000000</td>\n",
              "      <td>5900.000000</td>\n",
              "      <td>0.071170</td>\n",
              "    </tr>\n",
              "    <tr>\n",
              "      <th>2970</th>\n",
              "      <td>2021-01-08</td>\n",
              "      <td>83300.0</td>\n",
              "      <td>90000.0</td>\n",
              "      <td>83000.0</td>\n",
              "      <td>88800.0</td>\n",
              "      <td>88800.000000</td>\n",
              "      <td>59013307.0</td>\n",
              "      <td>84160.00000</td>\n",
              "      <td>77185.0</td>\n",
              "      <td>67916.666667</td>\n",
              "      <td>62670.000000</td>\n",
              "      <td>41547581.4</td>\n",
              "      <td>2021</td>\n",
              "      <td>1</td>\n",
              "      <td>8</td>\n",
              "      <td>91000.000000</td>\n",
              "      <td>2200.000000</td>\n",
              "      <td>0.024775</td>\n",
              "    </tr>\n",
              "    <tr>\n",
              "      <th>2971</th>\n",
              "      <td>2021-01-11</td>\n",
              "      <td>90000.0</td>\n",
              "      <td>96800.0</td>\n",
              "      <td>89500.0</td>\n",
              "      <td>91000.0</td>\n",
              "      <td>91000.000000</td>\n",
              "      <td>89406371.0</td>\n",
              "      <td>85760.00000</td>\n",
              "      <td>78040.0</td>\n",
              "      <td>68418.333333</td>\n",
              "      <td>62972.500000</td>\n",
              "      <td>51697800.4</td>\n",
              "      <td>2021</td>\n",
              "      <td>1</td>\n",
              "      <td>11</td>\n",
              "      <td>NaN</td>\n",
              "      <td>NaN</td>\n",
              "      <td>NaN</td>\n",
              "    </tr>\n",
              "  </tbody>\n",
              "</table>\n",
              "<p>2972 rows × 18 columns</p>\n",
              "</div>"
            ],
            "text/plain": [
              "           Date     Open  ...  Fluctuation  Fluctuation Rate\n",
              "0    2009-01-02   9070.0  ...     0.021776          0.012766\n",
              "1    2009-01-05   9600.0  ...     0.079847          0.046219\n",
              "2    2009-01-06   9640.0  ...     0.094365          0.052209\n",
              "3    2009-01-07  10100.0  ...    -0.058071         -0.030535\n",
              "4    2009-01-08  10360.0  ...    -0.054441         -0.029528\n",
              "...         ...      ...  ...          ...               ...\n",
              "2967 2021-01-05  81600.0  ... -1700.000000         -0.020262\n",
              "2968 2021-01-06  83300.0  ...   700.000000          0.008516\n",
              "2969 2021-01-07  82800.0  ...  5900.000000          0.071170\n",
              "2970 2021-01-08  83300.0  ...  2200.000000          0.024775\n",
              "2971 2021-01-11  90000.0  ...          NaN               NaN\n",
              "\n",
              "[2972 rows x 18 columns]"
            ]
          },
          "metadata": {
            "tags": []
          },
          "execution_count": 13
        }
      ]
    },
    {
      "cell_type": "code",
      "metadata": {
        "colab": {
          "base_uri": "https://localhost:8080/",
          "height": 483
        },
        "id": "NT3HyTcyv9Xd",
        "outputId": "61f25071-4c97-45bf-dcff-6e933aecc16e"
      },
      "source": [
        "plt.figure(figsize=(12,8)) \r\n",
        "plt.plot(df['Date'],df['Fluctuation Rate'], color = 'lightblue')\r\n",
        "# sns.lineplot(data=df, x=\"Date\", y=\"Fluctuation Rate\", palette='lightblue')\r\n",
        "plt.ylim(-2.5,3.5)\r\n",
        "plt.axhline( y = 0, color = 'red', ls = '--') #기준선추가\r\n",
        "plt.show()"
      ],
      "execution_count": 14,
      "outputs": [
        {
          "output_type": "display_data",
          "data": {
            "image/png": "[encoded data removed]",
            "text/plain": [
              "<Figure size 864x576 with 1 Axes>"
            ]
          },
          "metadata": {
            "tags": [],
            "needs_background": "light"
          }
        }
      ]
    },
    {
      "cell_type": "code",
      "metadata": {
        "colab": {
          "base_uri": "https://localhost:8080/",
          "height": 281
        },
        "id": "BbBzIbnB21wp",
        "outputId": "ff352c1e-244b-4c3f-b012-7256ed586ddd"
      },
      "source": [
        "df['Fluctuation Rate'].plot.hist()\r\n",
        "plt.title('Fluctuation Rate Histogram');\r\n",
        "plt.xlim(-0.5, 0.8)\r\n",
        "plt.show();"
      ],
      "execution_count": 25,
      "outputs": [
        {
          "output_type": "display_data",
          "data": {
            "image/png": "[encoded data removed]",
            "text/plain": [
              "<Figure size 432x288 with 1 Axes>"
            ]
          },
          "metadata": {
            "tags": [],
            "needs_background": "light"
          }
        }
      ]
    },
    {
      "cell_type": "code",
      "metadata": {
        "colab": {
          "base_uri": "https://localhost:8080/",
          "height": 281
        },
        "id": "hWNSp7GO5KtH",
        "outputId": "332a332a-1914-47e3-d002-650535c2f6fe"
      },
      "source": [
        "# 커널 밀도함수\r\n",
        "df['Fluctuation Rate'].plot.kde()\r\n",
        "plt.title('Fluctuation Rate Histogram')\r\n",
        "plt.show();"
      ],
      "execution_count": 27,
      "outputs": [
        {
          "output_type": "display_data",
          "data": {
            "image/png": "[encoded data removed]",
            "text/plain": [
              "<Figure size 432x288 with 1 Axes>"
            ]
          },
          "metadata": {
            "tags": [],
            "needs_background": "light"
          }
        }
      ]
    },
    {
      "cell_type": "code",
      "metadata": {
        "colab": {
          "base_uri": "https://localhost:8080/"
        },
        "id": "dxMNOpdI5WNO",
        "outputId": "a2a98bf0-c7e4-426a-a8a1-8d72c3c70d79"
      },
      "source": [
        "# !pip install https://github.com/matplotlib/mpl_finance/archive/master.zip"
      ],
      "execution_count": 28,
      "outputs": [
        {
          "output_type": "stream",
          "text": [
            "Collecting https://github.com/matplotlib/mpl_finance/archive/master.zip\n",
            "\u001b[?25l  Downloading https://github.com/matplotlib/mpl_finance/archive/master.zip (306kB)\n",
            "\u001b[K     |████████████████████████████████| 307kB 4.0MB/s \n",
            "\u001b[?25hRequirement already satisfied: matplotlib in /usr/local/lib/python3.6/dist-packages (from mpl-finance==0.10.1) (3.2.2)\n",
            "Requirement already satisfied: kiwisolver>=1.0.1 in /usr/local/lib/python3.6/dist-packages (from matplotlib->mpl-finance==0.10.1) (1.3.1)\n",
            "Requirement already satisfied: numpy>=1.11 in /usr/local/lib/python3.6/dist-packages (from matplotlib->mpl-finance==0.10.1) (1.19.5)\n",
            "Requirement already satisfied: cycler>=0.10 in /usr/local/lib/python3.6/dist-packages (from matplotlib->mpl-finance==0.10.1) (0.10.0)\n",
            "Requirement already satisfied: pyparsing!=2.0.4,!=2.1.2,!=2.1.6,>=2.0.1 in /usr/local/lib/python3.6/dist-packages (from matplotlib->mpl-finance==0.10.1) (2.4.7)\n",
            "Requirement already satisfied: python-dateutil>=2.1 in /usr/local/lib/python3.6/dist-packages (from matplotlib->mpl-finance==0.10.1) (2.8.1)\n",
            "Requirement already satisfied: six in /usr/local/lib/python3.6/dist-packages (from cycler>=0.10->matplotlib->mpl-finance==0.10.1) (1.15.0)\n",
            "Building wheels for collected packages: mpl-finance\n",
            "  Building wheel for mpl-finance (setup.py) ... \u001b[?25l\u001b[?25hdone\n",
            "  Created wheel for mpl-finance: filename=mpl_finance-0.10.1-cp36-none-any.whl size=8422 sha256=f4b1854a938dc3135cc9daf05a2747557006e5b9770557e300e40131605f280a\n",
            "  Stored in directory: /tmp/pip-ephem-wheel-cache-kg8j5rf2/wheels/8f/bf/8a/6c858b2a3be945c7b2d658fbf6ab797b451d686cbee8aa2679\n",
            "Successfully built mpl-finance\n",
            "Installing collected packages: mpl-finance\n",
            "Successfully installed mpl-finance-0.10.1\n"
          ],
          "name": "stdout"
        }
      ]
    },
    {
      "cell_type": "code",
      "metadata": {
        "id": "SGqFphUQ5XNI"
      },
      "source": [
        "from mpl_finance import candlestick2_ohlc\r\n",
        "import matplotlib.pyplot as plt\r\n",
        "\r\n",
        "#matplotlib에서 x축과 y축에 표시되는 값을 ticker라 함\r\n",
        "import matplotlib.ticker as ticker \r\n",
        "import matplotlib.dates as mdates\r\n",
        "import numpy as np"
      ],
      "execution_count": 29,
      "outputs": []
    },
    {
      "cell_type": "code",
      "metadata": {
        "colab": {
          "base_uri": "https://localhost:8080/",
          "height": 415
        },
        "id": "welTaQAF5aq0",
        "outputId": "6d4b7706-c2ec-40af-e496-202ff8ebcd43"
      },
      "source": [
        "#차트와 피규어 그리기 준비 및 크기 설정\r\n",
        "fig, ax = plt.subplots(figsize=(15,7)) \r\n",
        "\r\n",
        "# 시고저종 데이터를 통해 캔들 차트를 그리기 (순서를 반드시 시고저종으로 입력)\r\n",
        "candlestick2_ohlc(ax,df['Open'],df['High'],df['Low'],df['Close'],width=0.6, colorup='r', colordown='b')\r\n",
        "\r\n",
        "# 차트 타이틀 설정\r\n",
        "plt.title('Candle stick S elec.')\r\n",
        "plt.show()"
      ],
      "execution_count": 30,
      "outputs": [
        {
          "output_type": "display_data",
          "data": {
            "image/png": "[encoded data removed]",
            "text/plain": [
              "<Figure size 1080x504 with 1 Axes>"
            ]
          },
          "metadata": {
            "tags": [],
            "needs_background": "light"
          }
        }
      ]
    },
    {
      "cell_type": "code",
      "metadata": {
        "colab": {
          "base_uri": "https://localhost:8080/",
          "height": 492
        },
        "id": "5Aya7oZV5kxd",
        "outputId": "c7f7c7ba-fe52-42a5-956b-64fda021553c"
      },
      "source": [
        "import pandas_datareader.data as wb\r\n",
        "\r\n",
        "start = datetime(2020,1,1) #시작날짜 \r\n",
        "end = datetime(2020,3,2) #끝 날짜df = wb.DataReader('005930.KS', 'yahoo' , start, end)\r\n",
        "df2 = wb.DataReader('005930.KS', 'yahoo',start,end)\r\n",
        "\r\n",
        "#다시 차트 그리기\r\n",
        "fig, ax = plt.subplots(figsize=(13,7)) \r\n",
        "\r\n",
        "#x축의 눈금을 설정\r\n",
        "day_list = []\r\n",
        "name_list = []\r\n",
        "for i, day in enumerate(df2.index):    \r\n",
        "    day_list.append(i) # 고정 축 list 생성\r\n",
        "    name_list.append(day.strftime('%Y-%m-%d')) # 고정 축에 적힐 날짜 list 생성\r\n",
        "ax.xaxis.set_major_locator(ticker.FixedLocator(day_list)) #day_list를 받아서 리스트 안의 값의 위치에 고정 축 생성\r\n",
        "ax.xaxis.set_major_formatter(ticker.FixedFormatter(name_list)) #설정한 고정 축에 name_list 안의 값을 축에 출력\r\n",
        "\r\n",
        "candlestick2_ohlc(ax,df2['Open'],df2['High'],df2['Low'],df2['Close'], width=0.5, colorup='r', colordown='b')\r\n",
        "\r\n",
        "plt.xticks(rotation = 90) #x축 각도 회전\r\n",
        "#fig.autofmt_xdate() #날짜 형식으로 자동 format 지정\r\n",
        "plt.title('Candle stick S elec')\r\n",
        "plt.grid()\r\n",
        "plt.show()"
      ],
      "execution_count": 40,
      "outputs": [
        {
          "output_type": "display_data",
          "data": {
            "image/png": "[encoded data removed]",
            "text/plain": [
              "<Figure size 936x504 with 1 Axes>"
            ]
          },
          "metadata": {
            "tags": [],
            "needs_background": "light"
          }
        }
      ]
    },
    {
      "cell_type": "markdown",
      "metadata": {
        "id": "5Zb0INRFk8ff"
      },
      "source": [
        "### Normalization\r\n",
        "\r\n",
        "딥러닝 모델이 학습을 잘하기 위해서 정규화 해주는 작업.\r\n",
        "\r\n",
        "sklearn 패키지에 있는 MinMaxScaler를 활용하여 전체 학습 데이터를 Normalize한다.\r\n",
        "\r\n",
        "MinMaxScaler를 해주면 전체 데이터는 0, 1사이의 값을 갖도록 해줍니다."
      ]
    },
    {
      "cell_type": "code",
      "metadata": {
        "id": "Gk_b5N7Gk7Y6"
      },
      "source": [
        "# from sklearn.preprocessing import MinMaxScaler\r\n",
        "\r\n",
        "# scaler = MinMaxScaler()\r\n",
        "# scale_cols = ['Open',\t'High',\t'Low','Close',\t'Volume']\r\n",
        "# df_scaled = scaler.fit_transform(df[scale_cols])\r\n",
        "\r\n",
        "# df_scaled = pd.DataFrame(df_scaled)\r\n",
        "# df_scaled.columns = scale_cols\r\n",
        "# print(df_scaled)"
      ],
      "execution_count": 16,
      "outputs": []
    },
    {
      "cell_type": "markdown",
      "metadata": {
        "id": "Az6kuFqkmsTW"
      },
      "source": [
        "**학습을 시킬 데이터 셋 생성**\r\n",
        "\r\n",
        "위의 함수는 정해진 window_size에 기반하여 20일 기간의 데이터 셋을 묶어 주는 역할을 합니다.\r\n",
        "\r\n",
        "즉, 순차적으로 20일 동안의 데이터 셋을 묶고, 이에 맞는 label (예측 데이터)와 함께 return해 줍니다."
      ]
    },
    {
      "cell_type": "code",
      "metadata": {
        "id": "b7vsXHuVmrDw"
      },
      "source": [
        "# TEST_SIZE = 200\r\n",
        "# WINDOW_SIZE = 20\r\n",
        "\r\n",
        "# train = df_scaled[:-TEST_SIZE]\r\n",
        "# test = df_scaled[-TEST_SIZE:]\r\n",
        "\r\n",
        "# def make_dataset(data, label, window_size=20):\r\n",
        "#     feature_list = []\r\n",
        "#     label_list = []\r\n",
        "#     for i in range(len(data) - window_size):\r\n",
        "#         feature_list.append(np.array(data.iloc[i:i+window_size]))\r\n",
        "#         label_list.append(np.array(label.iloc[i+window_size]))\r\n",
        "#     return np.array(feature_list), np.array(label_list)"
      ],
      "execution_count": 17,
      "outputs": []
    },
    {
      "cell_type": "code",
      "metadata": {
        "id": "6F9jT2wOnFu3"
      },
      "source": [
        "\r\n",
        "# from sklearn.model_selection import train_test_split\r\n",
        "\r\n",
        "# feature_cols = ['Open',\t'High',\t'Low','Volume']\r\n",
        "# label_cols = ['Close']\r\n",
        "\r\n",
        "# train_feature = train[feature_cols]\r\n",
        "# train_label = train[label_cols]\r\n",
        "\r\n",
        "# train_feature, train_label = make_dataset(train_feature, train_label, 20)\r\n",
        "\r\n",
        "# x_train, x_valid, y_train, y_valid = train_test_split(train_feature, train_label, test_size=0.2)\r\n",
        "# x_train.shape, x_valid.shape\r\n",
        "\r\n",
        "# test_feature = test[feature_cols]\r\n",
        "# test_label = test[label_cols]\r\n",
        "\r\n",
        "# test_feature.shape, test_label.shape\r\n",
        "\r\n",
        "# test_feature, test_label = make_dataset(test_feature, test_label, 20)\r\n",
        "# test_feature.shape, test_label.shape"
      ],
      "execution_count": 18,
      "outputs": []
    },
    {
      "cell_type": "code",
      "metadata": {
        "id": "SbIuNjJ7q831"
      },
      "source": [
        "# from keras.models import Sequential\r\n",
        "# from keras.layers import Dense\r\n",
        "# from keras.callbacks import EarlyStopping, ModelCheckpoint\r\n",
        "# from keras.layers import LSTM\r\n",
        "\r\n",
        "# model = Sequential()\r\n",
        "# model.add(LSTM(16, \r\n",
        "#                input_shape=(train_feature.shape[1], train_feature.shape[2]), \r\n",
        "#                activation='relu', \r\n",
        "#                return_sequences=False)\r\n",
        "#           )\r\n",
        "\r\n",
        "# model.add(Dense(1))"
      ],
      "execution_count": 19,
      "outputs": []
    },
    {
      "cell_type": "code",
      "metadata": {
        "id": "eZQt9e-yq9cO"
      },
      "source": [
        "# import os\r\n",
        "# from os.path import join  \r\n",
        "\r\n",
        "# model.compile(loss='mean_squared_error', optimizer='adam')\r\n",
        "# early_stop = EarlyStopping(monitor='val_loss', patience=5)\r\n",
        "\r\n",
        "# model_path = 'model'\r\n",
        "# filename = os.path.join(model_path, 'tmp_checkpoint.h5')\r\n",
        "# checkpoint = ModelCheckpoint(filename, monitor='val_loss', verbose=1, save_best_only=True, mode='auto')\r\n",
        "\r\n",
        "# history = model.fit(x_train, y_train, \r\n",
        "#                     epochs=200, \r\n",
        "#                     batch_size=16,\r\n",
        "#                     validation_data=(x_valid, y_valid), \r\n",
        "#                     callbacks=[early_stop, checkpoint])\r\n"
      ],
      "execution_count": 20,
      "outputs": []
    },
    {
      "cell_type": "code",
      "metadata": {
        "id": "mE1VWz5Z65kC"
      },
      "source": [
        "# !pip install -q pyyaml h5py"
      ],
      "execution_count": 21,
      "outputs": []
    },
    {
      "cell_type": "code",
      "metadata": {
        "id": "RxLyxTsorBh2"
      },
      "source": [
        "# from google.colab import drive\r\n",
        "\r\n",
        "# pred = model.predict(test_feature)\r\n",
        "# model.load_weights(filename)\r\n",
        "\r\n",
        "# pred.shape"
      ],
      "execution_count": 22,
      "outputs": []
    },
    {
      "cell_type": "code",
      "metadata": {
        "id": "kmNvEMfes12A"
      },
      "source": [
        "# plt.figure(figsize=(12, 9))\r\n",
        "# plt.plot(test_label, label = 'actual')\r\n",
        "# plt.plot(pred, label = 'prediction')\r\n",
        "# plt.legend()\r\n",
        "# plt.show()"
      ],
      "execution_count": 23,
      "outputs": []
    }
  ]
}